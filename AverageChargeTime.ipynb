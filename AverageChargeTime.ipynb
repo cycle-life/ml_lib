{
 "cells": [
  {
   "cell_type": "code",
   "execution_count": null,
   "metadata": {},
   "outputs": [],
   "source": [
    "data = pd.read_excel('./data/cycling/LFP_1_25C_Reg.xls', sheet_name = 1)"
   ]
  },
  {
   "cell_type": "code",
   "execution_count": 1,
   "metadata": {},
   "outputs": [],
   "source": [
    "import pandas as pd"
   ]
  },
  {
   "cell_type": "code",
   "execution_count": 2,
   "metadata": {},
   "outputs": [],
   "source": [
    "import matplotlib.pyplot as plt\n",
    "import numpy as np"
   ]
  },
  {
   "cell_type": "code",
   "execution_count": 4,
   "metadata": {},
   "outputs": [],
   "source": [
    "data = pd.read_csv('2018-04-12_batch8_CH17.csv')"
   ]
  },
  {
   "cell_type": "code",
   "execution_count": 97,
   "metadata": {},
   "outputs": [],
   "source": [
    "def ChargeAverageTime(n):\n",
    "    End_list = []\n",
    "    Start_list = []\n",
    "    count = 0\n",
    "    for index,val in enumerate(data['Charge_Capacity']):\n",
    "        if data['Charge_Capacity'][index+2] == data['Charge_Capacity'][index+1] and data['Charge_Capacity'][index+1] < data['Charge_Capacity'][index]:\n",
    "            End_list.append(data['Test_Time'][index+1])\n",
    "            count = count +1\n",
    "        if data['Cycle_Index'][index+2] > data['Cycle_Index'][index+1] and data['Charge_Capacity'][index+2] < data['Charge_Capacity'][index+1]:\n",
    "            Start_list.append(data['Test_Time'][index+1])\n",
    "            #count = count +1\n",
    "        if count>=100: break\n",
    "    print(len(End_list))\n",
    "    Charge_time=[]\n",
    "    for index in range(n):\n",
    "\n",
    "        Charge_time.append(End_list[index+1]-End_list[index])\n",
    "    \n",
    "    \n",
    "    \n",
    "    return np.array(Charge_time).mean()\n",
    "    \n",
    "    "
   ]
  },
  {
   "cell_type": "code",
   "execution_count": 99,
   "metadata": {},
   "outputs": [
    {
     "name": "stdout",
     "output_type": "stream",
     "text": [
      "100\n"
     ]
    },
    {
     "data": {
      "text/plain": [
       "3043.0307266666664"
      ]
     },
     "execution_count": 99,
     "metadata": {},
     "output_type": "execute_result"
    }
   ],
   "source": [
    "ChargeAverageTime(30)"
   ]
  },
  {
   "cell_type": "code",
   "execution_count": 63,
   "metadata": {},
   "outputs": [
    {
     "data": {
      "text/plain": [
       "[104016.9226,\n",
       " 107006.3849,\n",
       " 109988.5504,\n",
       " 112960.323,\n",
       " 115931.7934,\n",
       " 118900.8374,\n",
       " 121874.4628,\n",
       " 124850.6392,\n",
       " 127819.6173,\n",
       " 133742.3486,\n",
       " 136696.6818,\n",
       " 139653.6466,\n",
       " 142605.7976,\n",
       " 145544.6914,\n",
       " 148478.3157,\n",
       " 151407.9324,\n",
       " 154345.3018,\n",
       " 157271.3899,\n",
       " 160197.6493,\n",
       " 163129.6881]"
      ]
     },
     "execution_count": 63,
     "metadata": {},
     "output_type": "execute_result"
    }
   ],
   "source": []
  },
  {
   "cell_type": "code",
   "execution_count": 69,
   "metadata": {},
   "outputs": [
    {
     "data": {
      "text/plain": [
       "[104016.7396,\n",
       " 107006.207,\n",
       " 109988.3849,\n",
       " 112960.1723,\n",
       " 115931.6408,\n",
       " 118900.6595,\n",
       " 121874.3004,\n",
       " 124850.4798,\n",
       " 127819.4525,\n",
       " 130783.7474,\n",
       " 133742.1877,\n",
       " 136696.5144,\n",
       " 139653.5015,\n",
       " 142605.6328,\n",
       " 145544.5416,\n",
       " 148478.1596,\n",
       " 151407.7747,\n",
       " 154345.1393,\n",
       " 157271.2257,\n",
       " 160197.4923,\n",
       " 163129.5342]"
      ]
     },
     "execution_count": 69,
     "metadata": {},
     "output_type": "execute_result"
    }
   ],
   "source": [
    "Start_list"
   ]
  },
  {
   "cell_type": "code",
   "execution_count": 70,
   "metadata": {},
   "outputs": [],
   "source": [
    "Charge_time=[]\n",
    "for index in range(5):\n",
    "    \n",
    "    Charge_time.append(End_list[index+1]-End_list[index])    "
   ]
  },
  {
   "cell_type": "code",
   "execution_count": 71,
   "metadata": {},
   "outputs": [
    {
     "data": {
      "text/plain": [
       "[2989.4622999999992,\n",
       " 2982.1654999999882,\n",
       " 2971.772600000011,\n",
       " 2971.470399999991,\n",
       " 2969.044000000009]"
      ]
     },
     "execution_count": 71,
     "metadata": {},
     "output_type": "execute_result"
    }
   ],
   "source": [
    "Charge_time"
   ]
  },
  {
   "cell_type": "code",
   "execution_count": null,
   "metadata": {},
   "outputs": [],
   "source": []
  }
 ],
 "metadata": {
  "kernelspec": {
   "display_name": "Python 3",
   "language": "python",
   "name": "python3"
  },
  "language_info": {
   "codemirror_mode": {
    "name": "ipython",
    "version": 3
   },
   "file_extension": ".py",
   "mimetype": "text/x-python",
   "name": "python",
   "nbconvert_exporter": "python",
   "pygments_lexer": "ipython3",
   "version": "3.7.3"
  }
 },
 "nbformat": 4,
 "nbformat_minor": 4
}

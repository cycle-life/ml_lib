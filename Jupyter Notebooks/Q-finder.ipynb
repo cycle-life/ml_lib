{
 "cells": [
  {
   "cell_type": "markdown",
   "metadata": {},
   "source": [
    "## $\\Delta$Q Prediction"
   ]
  },
  {
   "cell_type": "code",
   "execution_count": 1,
   "metadata": {},
   "outputs": [],
   "source": [
    "import numpy as np\n",
    "import matplotlib.pyplot as plt\n",
    "import scipy\n",
    "import pandas as pd"
   ]
  },
  {
   "cell_type": "code",
   "execution_count": 4,
   "metadata": {},
   "outputs": [],
   "source": [
    "data = pd.read_csv('../data/2018-04-12_batch8_CH29.csv')\n",
    "cycles = data.groupby('Cycle_Index')\n",
    "cycle_dict = {}\n",
    "\n",
    "for i in cycles:\n",
    "    cycle_dict[i[0]] = i[1]"
   ]
  },
  {
   "cell_type": "code",
   "execution_count": 5,
   "metadata": {},
   "outputs": [
    {
     "data": {
      "text/html": [
       "<div>\n",
       "<style scoped>\n",
       "    .dataframe tbody tr th:only-of-type {\n",
       "        vertical-align: middle;\n",
       "    }\n",
       "\n",
       "    .dataframe tbody tr th {\n",
       "        vertical-align: top;\n",
       "    }\n",
       "\n",
       "    .dataframe thead th {\n",
       "        text-align: right;\n",
       "    }\n",
       "</style>\n",
       "<table border=\"1\" class=\"dataframe\">\n",
       "  <thead>\n",
       "    <tr style=\"text-align: right;\">\n",
       "      <th></th>\n",
       "      <th>Data_Point</th>\n",
       "      <th>Test_Time</th>\n",
       "      <th>DateTime</th>\n",
       "      <th>Step_Time</th>\n",
       "      <th>Step_Index</th>\n",
       "      <th>Cycle_Index</th>\n",
       "      <th>Current</th>\n",
       "      <th>Voltage</th>\n",
       "      <th>Charge_Capacity</th>\n",
       "      <th>Discharge_Capacity</th>\n",
       "      <th>Charge_Energy</th>\n",
       "      <th>Discharge_Energy</th>\n",
       "      <th>dV/dt</th>\n",
       "      <th>Internal_Resistance</th>\n",
       "      <th>Temperature</th>\n",
       "      <th>Aux_Voltage</th>\n",
       "    </tr>\n",
       "  </thead>\n",
       "  <tbody>\n",
       "    <tr>\n",
       "      <th>10368</th>\n",
       "      <td>10368</td>\n",
       "      <td>131908.0744</td>\n",
       "      <td>1.523715e+09</td>\n",
       "      <td>0.0673</td>\n",
       "      <td>3</td>\n",
       "      <td>11</td>\n",
       "      <td>0.549515</td>\n",
       "      <td>2.126527</td>\n",
       "      <td>0.000003</td>\n",
       "      <td>2.764386e-07</td>\n",
       "      <td>0.000007</td>\n",
       "      <td>5.809909e-07</td>\n",
       "      <td>0.017381</td>\n",
       "      <td>0.015466</td>\n",
       "      <td>35.310373</td>\n",
       "      <td>NaN</td>\n",
       "    </tr>\n",
       "    <tr>\n",
       "      <th>10369</th>\n",
       "      <td>10369</td>\n",
       "      <td>131908.0987</td>\n",
       "      <td>1.523715e+09</td>\n",
       "      <td>0.0916</td>\n",
       "      <td>3</td>\n",
       "      <td>11</td>\n",
       "      <td>0.858246</td>\n",
       "      <td>2.149167</td>\n",
       "      <td>0.000003</td>\n",
       "      <td>2.764386e-07</td>\n",
       "      <td>0.000007</td>\n",
       "      <td>5.809909e-07</td>\n",
       "      <td>0.017381</td>\n",
       "      <td>0.015466</td>\n",
       "      <td>35.310024</td>\n",
       "      <td>NaN</td>\n",
       "    </tr>\n",
       "    <tr>\n",
       "      <th>10370</th>\n",
       "      <td>10370</td>\n",
       "      <td>131908.1284</td>\n",
       "      <td>1.523715e+09</td>\n",
       "      <td>0.1213</td>\n",
       "      <td>3</td>\n",
       "      <td>11</td>\n",
       "      <td>1.165848</td>\n",
       "      <td>2.177527</td>\n",
       "      <td>0.000003</td>\n",
       "      <td>2.764386e-07</td>\n",
       "      <td>0.000007</td>\n",
       "      <td>5.809909e-07</td>\n",
       "      <td>0.017381</td>\n",
       "      <td>0.015466</td>\n",
       "      <td>35.309598</td>\n",
       "      <td>NaN</td>\n",
       "    </tr>\n",
       "    <tr>\n",
       "      <th>10371</th>\n",
       "      <td>10371</td>\n",
       "      <td>131908.1611</td>\n",
       "      <td>1.523715e+09</td>\n",
       "      <td>0.1540</td>\n",
       "      <td>3</td>\n",
       "      <td>11</td>\n",
       "      <td>1.472210</td>\n",
       "      <td>2.210412</td>\n",
       "      <td>0.000003</td>\n",
       "      <td>2.764386e-07</td>\n",
       "      <td>0.000007</td>\n",
       "      <td>5.809909e-07</td>\n",
       "      <td>0.017381</td>\n",
       "      <td>0.015466</td>\n",
       "      <td>35.309129</td>\n",
       "      <td>NaN</td>\n",
       "    </tr>\n",
       "    <tr>\n",
       "      <th>10372</th>\n",
       "      <td>10372</td>\n",
       "      <td>131908.1948</td>\n",
       "      <td>1.523715e+09</td>\n",
       "      <td>0.1877</td>\n",
       "      <td>3</td>\n",
       "      <td>11</td>\n",
       "      <td>1.905315</td>\n",
       "      <td>2.262209</td>\n",
       "      <td>0.000003</td>\n",
       "      <td>2.764386e-07</td>\n",
       "      <td>0.000007</td>\n",
       "      <td>5.809909e-07</td>\n",
       "      <td>0.017381</td>\n",
       "      <td>0.015466</td>\n",
       "      <td>35.308646</td>\n",
       "      <td>NaN</td>\n",
       "    </tr>\n",
       "  </tbody>\n",
       "</table>\n",
       "</div>"
      ],
      "text/plain": [
       "       Data_Point    Test_Time      DateTime  Step_Time  Step_Index  \\\n",
       "10368       10368  131908.0744  1.523715e+09     0.0673           3   \n",
       "10369       10369  131908.0987  1.523715e+09     0.0916           3   \n",
       "10370       10370  131908.1284  1.523715e+09     0.1213           3   \n",
       "10371       10371  131908.1611  1.523715e+09     0.1540           3   \n",
       "10372       10372  131908.1948  1.523715e+09     0.1877           3   \n",
       "\n",
       "       Cycle_Index   Current   Voltage  Charge_Capacity  Discharge_Capacity  \\\n",
       "10368           11  0.549515  2.126527         0.000003        2.764386e-07   \n",
       "10369           11  0.858246  2.149167         0.000003        2.764386e-07   \n",
       "10370           11  1.165848  2.177527         0.000003        2.764386e-07   \n",
       "10371           11  1.472210  2.210412         0.000003        2.764386e-07   \n",
       "10372           11  1.905315  2.262209         0.000003        2.764386e-07   \n",
       "\n",
       "       Charge_Energy  Discharge_Energy     dV/dt  Internal_Resistance  \\\n",
       "10368       0.000007      5.809909e-07  0.017381             0.015466   \n",
       "10369       0.000007      5.809909e-07  0.017381             0.015466   \n",
       "10370       0.000007      5.809909e-07  0.017381             0.015466   \n",
       "10371       0.000007      5.809909e-07  0.017381             0.015466   \n",
       "10372       0.000007      5.809909e-07  0.017381             0.015466   \n",
       "\n",
       "       Temperature  Aux_Voltage  \n",
       "10368    35.310373          NaN  \n",
       "10369    35.310024          NaN  \n",
       "10370    35.309598          NaN  \n",
       "10371    35.309129          NaN  \n",
       "10372    35.308646          NaN  "
      ]
     },
     "execution_count": 5,
     "metadata": {},
     "output_type": "execute_result"
    }
   ],
   "source": [
    "cycle_dict[11].head()"
   ]
  },
  {
   "cell_type": "code",
   "execution_count": 6,
   "metadata": {},
   "outputs": [
    {
     "data": {
      "text/plain": [
       "Text(0.5, 0, 'Time')"
      ]
     },
     "execution_count": 6,
     "metadata": {},
     "output_type": "execute_result"
    },
    {
     "data": {
      "image/png": "[encoded data removed]",
      "text/plain": [
       "<Figure size 432x288 with 2 Axes>"
      ]
     },
     "metadata": {
      "needs_background": "light"
     },
     "output_type": "display_data"
    }
   ],
   "source": [
    "fig = plt.figure()\n",
    "\n",
    "cycle_number = 100\n",
    "\n",
    "ax = fig.add_subplot(111)\n",
    "ax.plot(cycle_dict[cycle_number]['Test_Time'] - cycle_dict[cycle_number]['Test_Time'].iloc[0], cycle_dict[cycle_number]['Voltage'])\n",
    "ax1 = ax.twinx()\n",
    "ax1.plot(cycle_dict[cycle_number]['Test_Time'] - cycle_dict[cycle_number]['Test_Time'].iloc[0], cycle_dict[cycle_number]['Current'], color = 'orange')\n",
    "\n",
    "ax.set_ylabel('Voltage')\n",
    "ax1.set_ylabel('Current')\n",
    "ax.set_xlabel('Time')"
   ]
  },
  {
   "cell_type": "code",
   "execution_count": 63,
   "metadata": {},
   "outputs": [],
   "source": [
    "discharge_100 = cycle_dict[100][cycle_dict[100]['Step_Index'] == 10]['Current']\n",
    "discharge_10 = cycle_dict[10][cycle_dict[10]['Step_Index'] == 10]"
   ]
  },
  {
   "cell_type": "code",
   "execution_count": 65,
   "metadata": {},
   "outputs": [
    {
     "data": {
      "text/html": [
       "<div>\n",
       "<style scoped>\n",
       "    .dataframe tbody tr th:only-of-type {\n",
       "        vertical-align: middle;\n",
       "    }\n",
       "\n",
       "    .dataframe tbody tr th {\n",
       "        vertical-align: top;\n",
       "    }\n",
       "\n",
       "    .dataframe thead th {\n",
       "        text-align: right;\n",
       "    }\n",
       "</style>\n",
       "<table border=\"1\" class=\"dataframe\">\n",
       "  <thead>\n",
       "    <tr style=\"text-align: right;\">\n",
       "      <th></th>\n",
       "      <th>Data_Point</th>\n",
       "      <th>Test_Time</th>\n",
       "      <th>DateTime</th>\n",
       "      <th>Step_Time</th>\n",
       "      <th>Step_Index</th>\n",
       "      <th>Cycle_Index</th>\n",
       "      <th>Current</th>\n",
       "      <th>Voltage</th>\n",
       "      <th>Charge_Capacity</th>\n",
       "      <th>Discharge_Capacity</th>\n",
       "      <th>Charge_Energy</th>\n",
       "      <th>Discharge_Energy</th>\n",
       "      <th>dV/dt</th>\n",
       "      <th>Internal_Resistance</th>\n",
       "      <th>Temperature</th>\n",
       "      <th>Aux_Voltage</th>\n",
       "    </tr>\n",
       "  </thead>\n",
       "  <tbody>\n",
       "    <tr>\n",
       "      <th>77952</th>\n",
       "      <td>77952</td>\n",
       "      <td>376954.3609</td>\n",
       "      <td>1.523960e+09</td>\n",
       "      <td>0.0940</td>\n",
       "      <td>10</td>\n",
       "      <td>100</td>\n",
       "      <td>-0.572170</td>\n",
       "      <td>3.585062</td>\n",
       "      <td>1.070542</td>\n",
       "      <td>0.000003</td>\n",
       "      <td>3.706523</td>\n",
       "      <td>0.00001</td>\n",
       "      <td>-0.000596</td>\n",
       "      <td>0.015513</td>\n",
       "      <td>32.161747</td>\n",
       "      <td>NaN</td>\n",
       "    </tr>\n",
       "    <tr>\n",
       "      <th>77953</th>\n",
       "      <td>77953</td>\n",
       "      <td>376954.4251</td>\n",
       "      <td>1.523960e+09</td>\n",
       "      <td>0.1582</td>\n",
       "      <td>10</td>\n",
       "      <td>100</td>\n",
       "      <td>-1.056516</td>\n",
       "      <td>3.574974</td>\n",
       "      <td>1.070542</td>\n",
       "      <td>0.000003</td>\n",
       "      <td>3.706523</td>\n",
       "      <td>0.00001</td>\n",
       "      <td>-0.000596</td>\n",
       "      <td>0.015513</td>\n",
       "      <td>32.163008</td>\n",
       "      <td>NaN</td>\n",
       "    </tr>\n",
       "    <tr>\n",
       "      <th>77954</th>\n",
       "      <td>77954</td>\n",
       "      <td>376954.4900</td>\n",
       "      <td>1.523960e+09</td>\n",
       "      <td>0.2231</td>\n",
       "      <td>10</td>\n",
       "      <td>100</td>\n",
       "      <td>-1.584908</td>\n",
       "      <td>3.563468</td>\n",
       "      <td>1.070542</td>\n",
       "      <td>0.000003</td>\n",
       "      <td>3.706523</td>\n",
       "      <td>0.00001</td>\n",
       "      <td>-0.000596</td>\n",
       "      <td>0.015513</td>\n",
       "      <td>32.164283</td>\n",
       "      <td>NaN</td>\n",
       "    </tr>\n",
       "    <tr>\n",
       "      <th>77955</th>\n",
       "      <td>77955</td>\n",
       "      <td>376954.5556</td>\n",
       "      <td>1.523960e+09</td>\n",
       "      <td>0.2887</td>\n",
       "      <td>10</td>\n",
       "      <td>100</td>\n",
       "      <td>-2.112418</td>\n",
       "      <td>3.551151</td>\n",
       "      <td>1.070542</td>\n",
       "      <td>0.000003</td>\n",
       "      <td>3.706523</td>\n",
       "      <td>0.00001</td>\n",
       "      <td>-0.000596</td>\n",
       "      <td>0.015513</td>\n",
       "      <td>32.165572</td>\n",
       "      <td>NaN</td>\n",
       "    </tr>\n",
       "    <tr>\n",
       "      <th>77956</th>\n",
       "      <td>77956</td>\n",
       "      <td>376954.6212</td>\n",
       "      <td>1.523960e+09</td>\n",
       "      <td>0.3543</td>\n",
       "      <td>10</td>\n",
       "      <td>100</td>\n",
       "      <td>-2.597128</td>\n",
       "      <td>3.539590</td>\n",
       "      <td>1.070542</td>\n",
       "      <td>0.000003</td>\n",
       "      <td>3.706523</td>\n",
       "      <td>0.00001</td>\n",
       "      <td>-0.000596</td>\n",
       "      <td>0.015513</td>\n",
       "      <td>32.166861</td>\n",
       "      <td>NaN</td>\n",
       "    </tr>\n",
       "  </tbody>\n",
       "</table>\n",
       "</div>"
      ],
      "text/plain": [
       "       Data_Point    Test_Time      DateTime  Step_Time  Step_Index  \\\n",
       "77952       77952  376954.3609  1.523960e+09     0.0940          10   \n",
       "77953       77953  376954.4251  1.523960e+09     0.1582          10   \n",
       "77954       77954  376954.4900  1.523960e+09     0.2231          10   \n",
       "77955       77955  376954.5556  1.523960e+09     0.2887          10   \n",
       "77956       77956  376954.6212  1.523960e+09     0.3543          10   \n",
       "\n",
       "       Cycle_Index   Current   Voltage  Charge_Capacity  Discharge_Capacity  \\\n",
       "77952          100 -0.572170  3.585062         1.070542            0.000003   \n",
       "77953          100 -1.056516  3.574974         1.070542            0.000003   \n",
       "77954          100 -1.584908  3.563468         1.070542            0.000003   \n",
       "77955          100 -2.112418  3.551151         1.070542            0.000003   \n",
       "77956          100 -2.597128  3.539590         1.070542            0.000003   \n",
       "\n",
       "       Charge_Energy  Discharge_Energy     dV/dt  Internal_Resistance  \\\n",
       "77952       3.706523           0.00001 -0.000596             0.015513   \n",
       "77953       3.706523           0.00001 -0.000596             0.015513   \n",
       "77954       3.706523           0.00001 -0.000596             0.015513   \n",
       "77955       3.706523           0.00001 -0.000596             0.015513   \n",
       "77956       3.706523           0.00001 -0.000596             0.015513   \n",
       "\n",
       "       Temperature  Aux_Voltage  \n",
       "77952    32.161747          NaN  \n",
       "77953    32.163008          NaN  \n",
       "77954    32.164283          NaN  \n",
       "77955    32.165572          NaN  \n",
       "77956    32.166861          NaN  "
      ]
     },
     "execution_count": 65,
     "metadata": {},
     "output_type": "execute_result"
    }
   ],
   "source": [
    "discharge_100.head()"
   ]
  },
  {
   "cell_type": "code",
   "execution_count": 71,
   "metadata": {},
   "outputs": [],
   "source": [
    "discharge_100 = cycle_dict[100][cycle_dict[100]['Step_Index'] == 10][\n",
    "    cycle_dict[100][cycle_dict[100]['Step_Index'] == 10]['Current'] < -4.3]\n",
    "discharge_10 = cycle_dict[10][cycle_dict[10]['Step_Index'] == 10][\n",
    "    cycle_dict[10][cycle_dict[10]['Step_Index'] == 10]['Current'] < -4.3]"
   ]
  },
  {
   "cell_type": "code",
   "execution_count": 74,
   "metadata": {},
   "outputs": [
    {
     "data": {
      "text/plain": [
       "[<matplotlib.lines.Line2D at 0x2b39dcbbb70>]"
      ]
     },
     "execution_count": 74,
     "metadata": {},
     "output_type": "execute_result"
    },
    {
     "data": {
      "image/png": "[encoded data removed]",
      "text/plain": [
       "<Figure size 432x288 with 1 Axes>"
      ]
     },
     "metadata": {
      "needs_background": "light"
     },
     "output_type": "display_data"
    }
   ],
   "source": [
    "plt.plot(discharge_100['Step_Time'], discharge_100['Voltage'])\n",
    "plt.plot(discharge_10['Step_Time'], discharge_10['Voltage'])"
   ]
  },
  {
   "cell_type": "code",
   "execution_count": 96,
   "metadata": {},
   "outputs": [],
   "source": [
    "discharge_100['Voltage_rounded'] = round(discharge_100['Voltage'], ndigits=3)\n",
    "discharge_10['Voltage_rounded'] = round(discharge_10['Voltage'], ndigits=3)"
   ]
  },
  {
   "cell_type": "code",
   "execution_count": 101,
   "metadata": {},
   "outputs": [
    {
     "data": {
      "text/plain": [
       "'1.2.1'"
      ]
     },
     "execution_count": 101,
     "metadata": {},
     "output_type": "execute_result"
    }
   ],
   "source": [
    "scipy.__version__"
   ]
  },
  {
   "cell_type": "code",
   "execution_count": 104,
   "metadata": {},
   "outputs": [],
   "source": [
    "from scipy.interpolate import BSpline as bs"
   ]
  },
  {
   "cell_type": "code",
   "execution_count": 107,
   "metadata": {},
   "outputs": [],
   "source": [
    "from scipy import interpolate"
   ]
  },
  {
   "cell_type": "code",
   "execution_count": 113,
   "metadata": {},
   "outputs": [
    {
     "data": {
      "text/plain": [
       "267"
      ]
     },
     "execution_count": 113,
     "metadata": {},
     "output_type": "execute_result"
    }
   ],
   "source": [
    "len(discharge_100)"
   ]
  },
  {
   "cell_type": "code",
   "execution_count": 114,
   "metadata": {},
   "outputs": [
    {
     "data": {
      "text/plain": [
       "222"
      ]
     },
     "execution_count": 114,
     "metadata": {},
     "output_type": "execute_result"
    }
   ],
   "source": [
    "len(discharge_100['Discharge_Capacity'].unique())"
   ]
  },
  {
   "cell_type": "code",
   "execution_count": 123,
   "metadata": {},
   "outputs": [
    {
     "data": {
      "text/plain": [
       "[<matplotlib.lines.Line2D at 0x2b3a5682b00>]"
      ]
     },
     "execution_count": 123,
     "metadata": {},
     "output_type": "execute_result"
    },
    {
     "data": {
      "image/png": "[encoded data removed]",
      "text/plain": [
       "<Figure size 432x288 with 1 Axes>"
      ]
     },
     "metadata": {
      "needs_background": "light"
     },
     "output_type": "display_data"
    }
   ],
   "source": [
    "plt.plot(x,y)"
   ]
  },
  {
   "cell_type": "code",
   "execution_count": 173,
   "metadata": {},
   "outputs": [],
   "source": [
    "sorted_discharge_100 = discharge_100.sort_values(by=['Voltage'])\n",
    "sorted_discharge_10 = discharge_10.sort_values(by=['Voltage'])"
   ]
  },
  {
   "cell_type": "code",
   "execution_count": 174,
   "metadata": {},
   "outputs": [
    {
     "data": {
      "image/png": "[encoded data removed]",
      "text/plain": [
       "<Figure size 432x288 with 1 Axes>"
      ]
     },
     "metadata": {
      "needs_background": "light"
     },
     "output_type": "display_data"
    }
   ],
   "source": [
    "x = np.array(sorted_discharge_10['Voltage'])\n",
    "y = np.array(sorted_discharge_10['Discharge_Capacity'])\n",
    "\n",
    "t, c, k = interpolate.splrep(x, y, s=0, k=3)\n",
    "# print('''\\\n",
    "# t: {}\n",
    "# c: {}\n",
    "# k: {}\n",
    "# '''.format(t, c, k))\n",
    "N = 100\n",
    "xmin, xmax = x.min(), x.max()\n",
    "xx = np.linspace(xmin, xmax, N)\n",
    "spline = interpolate.BSpline(t, c, k, extrapolate=False)\n",
    "\n",
    "plt.plot(x, y, 'bo', label='Original points')\n",
    "plt.plot(xx, spline(xx), 'r', label='BSpline')\n",
    "plt.grid()\n",
    "plt.legend(loc='best')\n",
    "plt.show()"
   ]
  },
  {
   "cell_type": "code",
   "execution_count": 177,
   "metadata": {},
   "outputs": [],
   "source": [
    "x_dc_100 = discharge_100['Voltage'].unique()"
   ]
  },
  {
   "cell_type": "code",
   "execution_count": 179,
   "metadata": {},
   "outputs": [],
   "source": [
    "capacity_splined_10 = spline(x_dc_100)"
   ]
  },
  {
   "cell_type": "code",
   "execution_count": 183,
   "metadata": {},
   "outputs": [],
   "source": [
    "Q = capacity_splined_10 - discharge_100['Discharge_Capacity']"
   ]
  },
  {
   "cell_type": "code",
   "execution_count": 184,
   "metadata": {},
   "outputs": [
    {
     "data": {
      "text/plain": [
       "[<matplotlib.lines.Line2D at 0x2b3a56da588>]"
      ]
     },
     "execution_count": 184,
     "metadata": {},
     "output_type": "execute_result"
    },
    {
     "data": {
      "image/png": "[encoded data removed]",
      "text/plain": [
       "<Figure size 432x288 with 1 Axes>"
      ]
     },
     "metadata": {
      "needs_background": "light"
     },
     "output_type": "display_data"
    }
   ],
   "source": [
    "plt.plot(x_dc_100, Q)"
   ]
  },
  {
   "cell_type": "code",
   "execution_count": 209,
   "metadata": {},
   "outputs": [],
   "source": [
    "def q_finder(dc10, dc100):\n",
    "    \"\"\"\n",
    "    This function requires the input of two discharge curves (in the form of Pandas DataFrames) and finds the\n",
    "    capacity difference as a function of voltage\n",
    "    \"\"\"\n",
    "    \n",
    "    from scipy.interpolate import BSpline as bs\n",
    "    import numpy as nppl\n",
    "    import pandas as pd\n",
    "    \n",
    "    return_df = pd.DataFrame()\n",
    "    sorted_discharge_100 = dc100.sort_values(by=['Voltage'])\n",
    "    sorted_discharge_10 = dc10.sort_values(by=['Voltage'])\n",
    "    \n",
    "    x = np.array(sorted_discharge_10['Voltage'])\n",
    "    y = np.array(sorted_discharge_10['Discharge_Capacity'])\n",
    "\n",
    "    t, c, k = interpolate.splrep(x, y, s=0, k=3)\n",
    "    N = 100\n",
    "    xmin, xmax = x.min(), x.max()\n",
    "    x_dc_100 = dc100['Voltage'].unique()\n",
    "    spline = interpolate.BSpline(t, c, k, extrapolate=False)\n",
    "    capacity_splined_10 = spline(x_dc_100)\n",
    "    Q = capacity_splined_10 - dc100['Discharge_Capacity']\n",
    "    \n",
    "    return_df['Q'] = -Q.reset_index()['Discharge_Capacity']\n",
    "    return_df['V'] = dc100.reset_index()['Voltage']\n",
    "    return return_df"
   ]
  },
  {
   "cell_type": "code",
   "execution_count": 210,
   "metadata": {},
   "outputs": [],
   "source": [
    "q = q_finder(discharge_10, discharge_100)"
   ]
  },
  {
   "cell_type": "code",
   "execution_count": 218,
   "metadata": {},
   "outputs": [
    {
     "data": {
      "image/png": "[encoded data removed]",
      "text/plain": [
       "<Figure size 432x288 with 1 Axes>"
      ]
     },
     "metadata": {
      "needs_background": "light"
     },
     "output_type": "display_data"
    }
   ],
   "source": [
    "plt.plot(q['Q'], q['V'])\n",
    "plt.xlabel(r'$Q_{100} - Q_{10}$ (Ah)')\n",
    "plt.ylabel('Voltage (V)')\n",
    "\n",
    "plt.tight_layout()"
   ]
  }
 ],
 "metadata": {
  "kernelspec": {
   "display_name": "Python 3",
   "language": "python",
   "name": "python3"
  },
  "language_info": {
   "codemirror_mode": {
    "name": "ipython",
    "version": 3
   },
   "file_extension": ".py",
   "mimetype": "text/x-python",
   "name": "python",
   "nbconvert_exporter": "python",
   "pygments_lexer": "ipython3",
   "version": "3.7.3"
  }
 },
 "nbformat": 4,
 "nbformat_minor": 4
}

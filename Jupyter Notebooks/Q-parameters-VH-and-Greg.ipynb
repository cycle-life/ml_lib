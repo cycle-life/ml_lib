{
 "cells": [
  {
   "cell_type": "code",
   "execution_count": 1,
   "metadata": {},
   "outputs": [],
   "source": [
    "import pandas as pd\n",
    "import numpy as np\n",
    "import matplotlib.pyplot as plt\n",
    "\n",
    "from scipy.interpolate import interp1d"
   ]
  },
  {
   "cell_type": "code",
   "execution_count": 2,
   "metadata": {},
   "outputs": [],
   "source": [
    "data = pd.read_csv('../data/b1c0_cycling_data.csv')\n",
    "cycles = data.groupby('Cycle_Index')\n",
    "cycle_dict = {}\n",
    "\n",
    "for i in cycles:\n",
    "    cycle_dict[i[0]] = i[1]"
   ]
  },
  {
   "cell_type": "code",
   "execution_count": 3,
   "metadata": {},
   "outputs": [],
   "source": [
    "discharge_100 = cycle_dict[100][cycle_dict[100]['I'] < 0][\n",
    "    cycle_dict[100][cycle_dict[100]['I'] < 0]['I'] < cycle_dict[100][cycle_dict[100]['I'] < 0]['I'].mean()*1.2]\n",
    "discharge_10 = cycle_dict[10][cycle_dict[10]['I'] < 10][\n",
    "    cycle_dict[10][cycle_dict[10]['I'] < 10]['I'] < cycle_dict[10][cycle_dict[10]['I'] < 0]['I'].mean()*1.2]"
   ]
  },
  {
   "cell_type": "code",
   "execution_count": 5,
   "metadata": {},
   "outputs": [
    {
     "data": {
      "text/plain": [
       "[<matplotlib.lines.Line2D at 0x28d5fe9fe48>]"
      ]
     },
     "execution_count": 5,
     "metadata": {},
     "output_type": "execute_result"
    },
    {
     "data": {
      "image/png": "[encoded data removed]",
      "text/plain": [
       "<Figure size 432x288 with 1 Axes>"
      ]
     },
     "metadata": {
      "needs_background": "light"
     },
     "output_type": "display_data"
    }
   ],
   "source": [
    "plt.plot(discharge_10['V'], discharge_10['Qd'])"
   ]
  },
  {
   "cell_type": "code",
   "execution_count": 12,
   "metadata": {},
   "outputs": [
    {
     "data": {
      "text/plain": [
       "1.9957494999999998"
      ]
     },
     "execution_count": 12,
     "metadata": {},
     "output_type": "execute_result"
    }
   ],
   "source": [
    "discharge_10['V'].min()"
   ]
  },
  {
   "cell_type": "code",
   "execution_count": 15,
   "metadata": {},
   "outputs": [
    {
     "data": {
      "text/plain": [
       "[<matplotlib.lines.Line2D at 0x28d61222ef0>]"
      ]
     },
     "execution_count": 15,
     "metadata": {},
     "output_type": "execute_result"
    },
    {
     "data": {
      "image/png": "[encoded data removed]",
      "text/plain": [
       "<Figure size 432x288 with 1 Axes>"
      ]
     },
     "metadata": {
      "needs_background": "light"
     },
     "output_type": "display_data"
    }
   ],
   "source": [
    "v_low = 2\n",
    "v_high = 3.4\n",
    "npoint = 500\n",
    "\n",
    "x_common = np.linspace(v_low, v_high, num=npoint, endpoint=True)\n",
    "\n",
    "f10 = interp1d(discharge_10['V'], discharge_10['Qd'])\n",
    "f100 = interp1d(discharge_100['V'], discharge_100['Qd'])\n",
    "dy_common = f100(x_common) - f10(x_common)\n",
    "plt.plot(x_common, dy_common)"
   ]
  },
  {
   "cell_type": "code",
   "execution_count": 8,
   "metadata": {},
   "outputs": [
    {
     "name": "stdout",
     "output_type": "stream",
     "text": [
      "Minimum of dQ: -4.728051319591058\n",
      "Average dQ between XXX :  -5.440362997224609\n",
      "Variance: -11.095990496178082\n",
      "Skewness: -9.51953112934698\n",
      "Kurtosis: 0.03526441041931454\n"
     ]
    }
   ],
   "source": [
    "from math import log\n",
    "from math import sqrt\n",
    "\n",
    "# Minimum\n",
    "print('Minimum of dQ:',log(abs(min(dy_common))))\n",
    "\n",
    "# Mean\n",
    "#lets find the close to 0 points, eg. 1/10 of max\n",
    "npoint2=sum(dy_common<(min(dy_common))/20)\n",
    "\n",
    "#print(npoint2)\n",
    "dq_mean = sum(dy_common)/npoint2     ##\n",
    "print('Average dQ between XXX : ', log(abs(dq_mean)))\n",
    "\n",
    "dq_min = min(dy_common)              ##\n",
    "\n",
    "dy_difference = dy_common-dq_mean\n",
    "\n",
    "# Variance\n",
    "V = sum(dy_difference**2)/(npoint2-1)\n",
    "V = log(abs(V))\n",
    "print('Variance:', V)\n",
    "\n",
    "# Skewness\n",
    "\n",
    "S = sum(dy_difference**3)/npoint2/(sqrt(sum(dy_difference**2))**3)\n",
    "S = log(abs(S))\n",
    "print('Skewness:', S)\n",
    "\n",
    "# Kurtosis\n",
    " \n",
    "K = sum((dy_difference**4)/npoint2/(sum(dy_difference**2)/npoint2)**2)    \n",
    "K = log(abs(K))\n",
    "print('Kurtosis:',K)"
   ]
  },
  {
   "cell_type": "code",
   "execution_count": 9,
   "metadata": {},
   "outputs": [],
   "source": [
    "def discharge_curve_prep(battery_file):\n",
    "    data = pd.read_csv('../data/' + battery_file)\n",
    "    cycles = data.groupby('Cycle_Index')\n",
    "    cycle_dict = {}\n",
    "\n",
    "    for i in cycles:\n",
    "        cycle_dict[i[0]] = i[1]\n",
    "    \n",
    "    dc100 = cycle_dict[100][cycle_dict[100]['I'] < 0][\n",
    "        cycle_dict[100][cycle_dict[100]['I'] < 0]['I'] < cycle_dict[100][cycle_dict[100]['I'] < 0]['I'].mean()]\n",
    "    dc10 = cycle_dict[10][cycle_dict[10]['I'] < 10][\n",
    "        cycle_dict[10][cycle_dict[10]['I'] < 10]['I'] < cycle_dict[10][cycle_dict[10]['I'] < 0]['I'].mean()]\n",
    "    \n",
    "    plt.plot(dc10['t'], dc10['V'], label = 'Cycle 10')\n",
    "    plt.plot(dc100['t'], dc100['V'], label = 'Cycle 100')\n",
    "    plt.legend()\n",
    "    plt.xlabel('Time (minutes)')\n",
    "    plt.ylabel('Voltage (V)')\n",
    "    plt.show()\n",
    "    \n",
    "    return(dc10, dc100)"
   ]
  },
  {
   "cell_type": "code",
   "execution_count": 16,
   "metadata": {},
   "outputs": [],
   "source": [
    "def q_finder(dc10, dc100):\n",
    "    v_low = 2\n",
    "    v_high = 3.4\n",
    "    npoint = 500\n",
    "\n",
    "    x_common = np.linspace(v_low, v_high, num=npoint, endpoint=True)\n",
    "\n",
    "    f10 = interp1d(dc10['V'], dc10['Qd'])\n",
    "    f100 = interp1d(dc100['V'], dc100['Qd'])\n",
    "    dy_common = f100(x_common) - f10(x_common)\n",
    "    \n",
    "    return x_common, dy_common"
   ]
  },
  {
   "cell_type": "code",
   "execution_count": 37,
   "metadata": {},
   "outputs": [],
   "source": [
    "def extract_q_features(Q):\n",
    "    from math import log\n",
    "    from math import sqrt\n",
    "    import numpy as np\n",
    "\n",
    "    # Minimum\n",
    "    qmin = log(abs(min(Q)))\n",
    "\n",
    "    # Mean\n",
    "    qmean = log(abs(Q.mean()))\n",
    "    \n",
    "    # Variance\n",
    "    Q_diff = Q - qmean\n",
    "    Q_diff_sq_sum = sum((Q_diff)**2)    \n",
    "    variance = log(abs(Q_diff_sq_sum/(len(Q)-1)))\n",
    "\n",
    "    # Skewness\n",
    "\n",
    "    S = sum(Q_diff**3)/npoint2/(sqrt(sum(Q_diff**2))**3)\n",
    "    skewness = log(abs(S))\n",
    "\n",
    "    # Kurtosis\n",
    "\n",
    "    K = sum((Q_diff**4)/npoint2/(sum(Q_diff**2)/(len(Q)-1))**2)    \n",
    "    kurtosis = log(abs(K))\n",
    "    \n",
    "    return(qmin, qmean, variance, skewness, kurtosis)"
   ]
  },
  {
   "cell_type": "code",
   "execution_count": 17,
   "metadata": {},
   "outputs": [
    {
     "data": {
      "image/png": "[encoded data removed]",
      "text/plain": [
       "<Figure size 432x288 with 1 Axes>"
      ]
     },
     "metadata": {
      "needs_background": "light"
     },
     "output_type": "display_data"
    }
   ],
   "source": [
    "discharge_10, discharge_100 = discharge_curve_prep('b1c0_cycling_data.csv')"
   ]
  },
  {
   "cell_type": "code",
   "execution_count": 18,
   "metadata": {},
   "outputs": [],
   "source": [
    "V, Q = q_finder(discharge_10, discharge_100)"
   ]
  },
  {
   "cell_type": "code",
   "execution_count": 20,
   "metadata": {},
   "outputs": [
    {
     "data": {
      "text/plain": [
       "[<matplotlib.lines.Line2D at 0x28d63453c18>]"
      ]
     },
     "execution_count": 20,
     "metadata": {},
     "output_type": "execute_result"
    },
    {
     "data": {
      "image/png": "[encoded data removed]",
      "text/plain": [
       "<Figure size 432x288 with 1 Axes>"
      ]
     },
     "metadata": {
      "needs_background": "light"
     },
     "output_type": "display_data"
    }
   ],
   "source": [
    "plt.plot(Q, V)"
   ]
  },
  {
   "cell_type": "code",
   "execution_count": 38,
   "metadata": {},
   "outputs": [],
   "source": [
    "a, b, c, d, e = extract_q_features(Q)"
   ]
  },
  {
   "cell_type": "code",
   "execution_count": 39,
   "metadata": {},
   "outputs": [
    {
     "name": "stdout",
     "output_type": "stream",
     "text": [
      "-4.728051319591058 -5.788503038713505 3.512691270615444 -8.97377170042061 0.34413711796370805\n"
     ]
    }
   ],
   "source": [
    "print(a, b, c, d ,e)"
   ]
  },
  {
   "cell_type": "code",
   "execution_count": null,
   "metadata": {},
   "outputs": [],
   "source": []
  }
 ],
 "metadata": {
  "kernelspec": {
   "display_name": "Python 3",
   "language": "python",
   "name": "python3"
  },
  "language_info": {
   "codemirror_mode": {
    "name": "ipython",
    "version": 3
   },
   "file_extension": ".py",
   "mimetype": "text/x-python",
   "name": "python",
   "nbconvert_exporter": "python",
   "pygments_lexer": "ipython3",
   "version": "3.7.3"
  }
 },
 "nbformat": 4,
 "nbformat_minor": 4
}

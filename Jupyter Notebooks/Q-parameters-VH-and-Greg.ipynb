{
 "cells": [
  {
   "cell_type": "code",
   "execution_count": 41,
   "metadata": {},
   "outputs": [],
   "source": [
    "import pandas as pd\n",
    "import numpy as np\n",
    "import matplotlib.pyplot as plt\n",
    "\n",
    "from scipy.interpolate import interp1d"
   ]
  },
  {
   "cell_type": "code",
   "execution_count": 2,
   "metadata": {},
   "outputs": [],
   "source": [
    "data = pd.read_csv('../data/b1c0_cycling_data.csv')\n",
    "cycles = data.groupby('Cycle_Index')\n",
    "cycle_dict = {}\n",
    "\n",
    "for i in cycles:\n",
    "    cycle_dict[i[0]] = i[1]"
   ]
  },
  {
   "cell_type": "code",
   "execution_count": 3,
   "metadata": {},
   "outputs": [],
   "source": [
    "discharge_100 = cycle_dict[100][cycle_dict[100]['I'] < 0][\n",
    "    cycle_dict[100][cycle_dict[100]['I'] < 0]['I'] < cycle_dict[100][cycle_dict[100]['I'] < 0]['I'].mean()*1.2]\n",
    "discharge_10 = cycle_dict[10][cycle_dict[10]['I'] < 10][\n",
    "    cycle_dict[10][cycle_dict[10]['I'] < 10]['I'] < cycle_dict[10][cycle_dict[10]['I'] < 0]['I'].mean()*1.2]"
   ]
  },
  {
   "cell_type": "code",
   "execution_count": 5,
   "metadata": {},
   "outputs": [
    {
     "data": {
      "text/plain": [
       "[<matplotlib.lines.Line2D at 0x28d5fe9fe48>]"
      ]
     },
     "execution_count": 5,
     "metadata": {},
     "output_type": "execute_result"
    },
    {
     "data": {
      "image/png": "[encoded data removed]",
      "text/plain": [
       "<Figure size 432x288 with 1 Axes>"
      ]
     },
     "metadata": {
      "needs_background": "light"
     },
     "output_type": "display_data"
    }
   ],
   "source": [
    "plt.plot(discharge_10['V'], discharge_10['Qd'])"
   ]
  },
  {
   "cell_type": "code",
   "execution_count": 12,
   "metadata": {},
   "outputs": [
    {
     "data": {
      "text/plain": [
       "1.9957494999999998"
      ]
     },
     "execution_count": 12,
     "metadata": {},
     "output_type": "execute_result"
    }
   ],
   "source": [
    "discharge_10['V'].min()"
   ]
  },
  {
   "cell_type": "code",
   "execution_count": 50,
   "metadata": {},
   "outputs": [
    {
     "data": {
      "text/plain": [
       "[<matplotlib.lines.Line2D at 0x28d61ed7a90>]"
      ]
     },
     "execution_count": 50,
     "metadata": {},
     "output_type": "execute_result"
    },
    {
     "data": {
      "image/png": "[encoded data removed]",
      "text/plain": [
       "<Figure size 432x288 with 1 Axes>"
      ]
     },
     "metadata": {
      "needs_background": "light"
     },
     "output_type": "display_data"
    }
   ],
   "source": [
    "v_low = 2\n",
    "v_high = 3.4\n",
    "npoint = 500\n",
    "\n",
    "x_common = np.linspace(v_low, v_high, num=npoint, endpoint=True)\n",
    "\n",
    "f10 = interp1d(discharge_10['V'], discharge_10['Qd'])\n",
    "f100 = interp1d(discharge_100['V'], discharge_100['Qd'])\n",
    "dy_common = f100(x_common) - f10(x_common)\n",
    "plt.plot(x_common, dy_common)"
   ]
  },
  {
   "cell_type": "code",
   "execution_count": 51,
   "metadata": {},
   "outputs": [
    {
     "name": "stdout",
     "output_type": "stream",
     "text": [
      "Minimum of dQ: -4.728051319591058\n",
      "Average dQ between XXX :  -5.440362997224609\n",
      "Variance: -11.095990496178082\n",
      "Skewness: -9.51953112934698\n",
      "Kurtosis: 0.03526441041931454\n"
     ]
    }
   ],
   "source": [
    "from math import log\n",
    "from math import sqrt\n",
    "\n",
    "# Minimum\n",
    "print('Minimum of dQ:',log(abs(min(dy_common))))\n",
    "\n",
    "# Mean\n",
    "#lets find the close to 0 points, eg. 1/10 of max\n",
    "npoint2=sum(dy_common<(min(dy_common))/20)\n",
    "\n",
    "#print(npoint2)\n",
    "dq_mean = sum(dy_common)/npoint2     ##\n",
    "print('Average dQ between XXX : ', log(abs(dq_mean)))\n",
    "\n",
    "dq_min = min(dy_common)              ##\n",
    "\n",
    "dy_difference = dy_common-dq_mean\n",
    "\n",
    "# Variance\n",
    "V = sum(dy_difference**2)/(npoint2-1)\n",
    "V = log(abs(V))\n",
    "print('Variance:', V)\n",
    "\n",
    "# Skewness\n",
    "\n",
    "S = sum(dy_difference**3)/npoint2/(sqrt(sum(dy_difference**2))**3)\n",
    "S = log(abs(S))\n",
    "print('Skewness:', S)\n",
    "\n",
    "# Kurtosis\n",
    " \n",
    "K = sum((dy_difference**4)/npoint2/(sum(dy_difference**2)/npoint2)**2)    \n",
    "K = log(abs(K))\n",
    "print('Kurtosis:',K)"
   ]
  },
  {
   "cell_type": "code",
   "execution_count": 1,
   "metadata": {},
   "outputs": [],
   "source": [
    "import pandas as pd\n",
    "\n",
    "data = pd.read_csv('../data/b1c0_cycling_data.csv')"
   ]
  },
  {
   "cell_type": "code",
   "execution_count": 2,
   "metadata": {},
   "outputs": [],
   "source": [
    "import numpy as np\n",
    "import pandas as pd\n",
    "from scipy.interpolate import interp1d\n",
    "\n",
    "def discharge_curve_prep(data, higher_cycle):\n",
    "    cycles = data.groupby('Cycle_Index')\n",
    "    cycle_dict = {}\n",
    "\n",
    "    for i in cycles:\n",
    "        cycle_dict[i[0]] = i[1]\n",
    "    \n",
    "    dc_higher = cycle_dict[higher_cycle][cycle_dict[higher_cycle]['I'] < 0][\n",
    "        cycle_dict[higher_cycle][cycle_dict[higher_cycle]['I'] < 0]['I'] < cycle_dict[higher_cycle][cycle_dict[higher_cycle]['I'] < 0]['I'].mean()]\n",
    "    dc10 = cycle_dict[10][cycle_dict[10]['I'] < 10][\n",
    "        cycle_dict[10][cycle_dict[10]['I'] < 10]['I'] < cycle_dict[10][cycle_dict[10]['I'] < 0]['I'].mean()]\n",
    "    \n",
    "    return(dc10, dc_higher)\n",
    "\n",
    "def q_finder(dc10, dc_higher):\n",
    "    v_low = 2.01\n",
    "    v_high = 3.4\n",
    "    npoint = 500\n",
    "\n",
    "    x_common = np.linspace(v_low, v_high, num=npoint, endpoint=True)\n",
    "\n",
    "    f10 = interp1d(dc10['V'], dc10['Qd'])\n",
    "    f_higher = interp1d(dc_higher['V'], dc_higher['Qd'])\n",
    "    dy_common = f_higher(x_common) - f10(x_common)\n",
    "    \n",
    "    return x_common, dy_common\n",
    "\n",
    "def extract_q_features(V, Q):\n",
    "    from math import log\n",
    "    from math import sqrt\n",
    "    import numpy as np\n",
    "\n",
    "    # Minimum\n",
    "    qmin = log(abs(min(Q)))\n",
    "\n",
    "    # Mean\n",
    "    qmean = log(abs(Q.mean()))\n",
    "    \n",
    "    # Variance\n",
    "    Q_diff = Q - qmean\n",
    "    Q_diff_sq_sum = sum((Q_diff)**2)    \n",
    "    variance = log(abs(Q_diff_sq_sum/(len(Q)-1)))\n",
    "\n",
    "    # Skewness\n",
    "\n",
    "    s = sum(Q_diff**3)/(len(Q)-1)/(sqrt(sum(Q_diff**2))**3)\n",
    "    skewness = log(abs(s))\n",
    "\n",
    "    # Kurtosis\n",
    "\n",
    "    k = sum((Q_diff**4)/(len(Q)-1)/(sum(Q_diff**2)/(len(Q)-1))**2)    \n",
    "    kurtosis = log(abs(k))\n",
    "    \n",
    "    # Value at 2 V\n",
    "    \n",
    "    index = int(np.argwhere(np.isclose(V, 2.01))[0][0])\n",
    "    value_at_2_v = log(abs(Q[index]))\n",
    "    \n",
    "    return(qmin, qmean, variance, skewness, kurtosis, value_at_2_v)\n",
    "\n",
    "def q_parameter_wrapped(data, cycle):\n",
    "    \"\"\"\n",
    "    Wrapper function that looks at the comparison between Cycle 100 and Cycle 10 of any given cell and returns \n",
    "    the six parameters that are related to the dQ curve.\n",
    "    \"\"\"\n",
    "    discharge_10, discharge_higher = discharge_curve_prep(data,higher_cycle=cycle)\n",
    "    V, Q = q_finder(discharge_10, discharge_higher)\n",
    "    qmin, qmean, qvariance, dskewness, qkurtosis, value_at_2_v= extract_q_features(V, Q)\n",
    "    \n",
    "    return (qmin, qmean, qvariance, dskewness, qkurtosis, value_at_2_v)"
   ]
  },
  {
   "cell_type": "code",
   "execution_count": 3,
   "metadata": {},
   "outputs": [
    {
     "data": {
      "text/plain": [
       "(-6.604346393518359,\n",
       " -6.755709596401647,\n",
       " 3.8231227411765434,\n",
       " -9.319910023927505,\n",
       " -0.0020016798559661804,\n",
       " -6.449950757193372)"
      ]
     },
     "execution_count": 3,
     "metadata": {},
     "output_type": "execute_result"
    }
   ],
   "source": [
    "q_parameter_wrapped(data, 59)"
   ]
  },
  {
   "cell_type": "code",
   "execution_count": 70,
   "metadata": {},
   "outputs": [
    {
     "ename": "AttributeError",
     "evalue": "'str' object has no attribute 'groupby'",
     "output_type": "error",
     "traceback": [
      "\u001b[1;31m---------------------------------------------------------------------------\u001b[0m",
      "\u001b[1;31mAttributeError\u001b[0m                            Traceback (most recent call last)",
      "\u001b[1;32m<ipython-input-70-75c212553289>\u001b[0m in \u001b[0;36m<module>\u001b[1;34m()\u001b[0m\n\u001b[1;32m----> 1\u001b[1;33m \u001b[0mdischarge_10\u001b[0m\u001b[1;33m,\u001b[0m \u001b[0mdischarge_100\u001b[0m \u001b[1;33m=\u001b[0m \u001b[0mdischarge_curve_prep\u001b[0m\u001b[1;33m(\u001b[0m\u001b[1;34m'b1c0_cycling_data.csv'\u001b[0m\u001b[1;33m)\u001b[0m\u001b[1;33m\u001b[0m\u001b[0m\n\u001b[0m",
      "\u001b[1;32m<ipython-input-22-77386b85c36b>\u001b[0m in \u001b[0;36mdischarge_curve_prep\u001b[1;34m(data)\u001b[0m\n\u001b[0;32m      2\u001b[0m \u001b[1;33m\u001b[0m\u001b[0m\n\u001b[0;32m      3\u001b[0m \u001b[1;32mdef\u001b[0m \u001b[0mdischarge_curve_prep\u001b[0m\u001b[1;33m(\u001b[0m\u001b[0mdata\u001b[0m\u001b[1;33m)\u001b[0m\u001b[1;33m:\u001b[0m\u001b[1;33m\u001b[0m\u001b[0m\n\u001b[1;32m----> 4\u001b[1;33m     \u001b[0mcycles\u001b[0m \u001b[1;33m=\u001b[0m \u001b[0mdata\u001b[0m\u001b[1;33m.\u001b[0m\u001b[0mgroupby\u001b[0m\u001b[1;33m(\u001b[0m\u001b[1;34m'Cycle_Index'\u001b[0m\u001b[1;33m)\u001b[0m\u001b[1;33m\u001b[0m\u001b[0m\n\u001b[0m\u001b[0;32m      5\u001b[0m     \u001b[0mcycle_dict\u001b[0m \u001b[1;33m=\u001b[0m \u001b[1;33m{\u001b[0m\u001b[1;33m}\u001b[0m\u001b[1;33m\u001b[0m\u001b[0m\n\u001b[0;32m      6\u001b[0m \u001b[1;33m\u001b[0m\u001b[0m\n",
      "\u001b[1;31mAttributeError\u001b[0m: 'str' object has no attribute 'groupby'"
     ]
    }
   ],
   "source": [
    "discharge_10, discharge_100 = discharge_curve_prep('b1c0_cycling_data.csv')"
   ]
  },
  {
   "cell_type": "code",
   "execution_count": 46,
   "metadata": {},
   "outputs": [],
   "source": [
    "V, Q = q_finder(discharge_10, discharge_100)"
   ]
  },
  {
   "cell_type": "code",
   "execution_count": 47,
   "metadata": {},
   "outputs": [
    {
     "data": {
      "text/plain": [
       "[<matplotlib.lines.Line2D at 0x28d6329e0f0>]"
      ]
     },
     "execution_count": 47,
     "metadata": {},
     "output_type": "execute_result"
    },
    {
     "data": {
      "image/png": "[encoded data removed]",
      "text/plain": [
       "<Figure size 432x288 with 1 Axes>"
      ]
     },
     "metadata": {
      "needs_background": "light"
     },
     "output_type": "display_data"
    }
   ],
   "source": [
    "plt.plot(Q, V)"
   ]
  },
  {
   "cell_type": "code",
   "execution_count": 48,
   "metadata": {},
   "outputs": [],
   "source": [
    "a, b, c, d, e = extract_q_features(Q)"
   ]
  },
  {
   "cell_type": "code",
   "execution_count": 49,
   "metadata": {},
   "outputs": [
    {
     "name": "stdout",
     "output_type": "stream",
     "text": [
      "-4.728051319591058 -5.788503038713505 3.512691270615444 -8.97377170042061 0.34413711796370805\n"
     ]
    }
   ],
   "source": [
    "print(a, b, c, d ,e)"
   ]
  },
  {
   "cell_type": "code",
   "execution_count": null,
   "metadata": {},
   "outputs": [],
   "source": []
  }
 ],
 "metadata": {
  "kernelspec": {
   "display_name": "Python 3",
   "language": "python",
   "name": "python3"
  },
  "language_info": {
   "codemirror_mode": {
    "name": "ipython",
    "version": 3
   },
   "file_extension": ".py",
   "mimetype": "text/x-python",
   "name": "python",
   "nbconvert_exporter": "python",
   "pygments_lexer": "ipython3",
   "version": "3.7.0"
  }
 },
 "nbformat": 4,
 "nbformat_minor": 4
}

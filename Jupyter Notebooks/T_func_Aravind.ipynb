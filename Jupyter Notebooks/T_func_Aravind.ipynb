{
 "cells": [
  {
   "cell_type": "markdown",
   "metadata": {},
   "source": [
    "This is the feature extractor for finding Min_T, Max_T & Int_T"
   ]
  },
  {
   "cell_type": "code",
   "execution_count": 2,
   "metadata": {},
   "outputs": [],
   "source": [
    "# import the necessarry libraries\n",
    "\n",
    "import pandas as pd\n",
    "import numpy as np\n",
    "import scipy\n",
    "from scipy import integrate"
   ]
  },
  {
   "cell_type": "code",
   "execution_count": 5,
   "metadata": {},
   "outputs": [
    {
     "data": {
      "text/html": [
       "<div>\n",
       "<style scoped>\n",
       "    .dataframe tbody tr th:only-of-type {\n",
       "        vertical-align: middle;\n",
       "    }\n",
       "\n",
       "    .dataframe tbody tr th {\n",
       "        vertical-align: top;\n",
       "    }\n",
       "\n",
       "    .dataframe thead th {\n",
       "        text-align: right;\n",
       "    }\n",
       "</style>\n",
       "<table border=\"1\" class=\"dataframe\">\n",
       "  <thead>\n",
       "    <tr style=\"text-align: right;\">\n",
       "      <th></th>\n",
       "      <th>Unnamed: 0</th>\n",
       "      <th>t</th>\n",
       "      <th>Cycle_Index</th>\n",
       "      <th>I</th>\n",
       "      <th>V</th>\n",
       "      <th>Qc</th>\n",
       "      <th>Qd</th>\n",
       "      <th>T</th>\n",
       "    </tr>\n",
       "  </thead>\n",
       "  <tbody>\n",
       "    <tr>\n",
       "      <th>0</th>\n",
       "      <td>0</td>\n",
       "      <td>0.000000</td>\n",
       "      <td>0.0</td>\n",
       "      <td>0.000000</td>\n",
       "      <td>0.000000</td>\n",
       "      <td>0.000000</td>\n",
       "      <td>0.0</td>\n",
       "      <td>0.000000</td>\n",
       "    </tr>\n",
       "    <tr>\n",
       "      <th>1</th>\n",
       "      <td>1</td>\n",
       "      <td>0.000000</td>\n",
       "      <td>0.0</td>\n",
       "      <td>0.000000</td>\n",
       "      <td>0.000000</td>\n",
       "      <td>0.000000</td>\n",
       "      <td>0.0</td>\n",
       "      <td>0.000000</td>\n",
       "    </tr>\n",
       "    <tr>\n",
       "      <th>2</th>\n",
       "      <td>0</td>\n",
       "      <td>0.000000</td>\n",
       "      <td>1.0</td>\n",
       "      <td>0.000000</td>\n",
       "      <td>2.026416</td>\n",
       "      <td>0.000000</td>\n",
       "      <td>0.0</td>\n",
       "      <td>31.632496</td>\n",
       "    </tr>\n",
       "    <tr>\n",
       "      <th>3</th>\n",
       "      <td>1</td>\n",
       "      <td>0.002417</td>\n",
       "      <td>1.0</td>\n",
       "      <td>0.215908</td>\n",
       "      <td>2.039388</td>\n",
       "      <td>0.000001</td>\n",
       "      <td>0.0</td>\n",
       "      <td>31.632496</td>\n",
       "    </tr>\n",
       "    <tr>\n",
       "      <th>4</th>\n",
       "      <td>2</td>\n",
       "      <td>0.002912</td>\n",
       "      <td>1.0</td>\n",
       "      <td>0.359831</td>\n",
       "      <td>2.051660</td>\n",
       "      <td>0.000001</td>\n",
       "      <td>0.0</td>\n",
       "      <td>31.632496</td>\n",
       "    </tr>\n",
       "  </tbody>\n",
       "</table>\n",
       "</div>"
      ],
      "text/plain": [
       "   Unnamed: 0         t  Cycle_Index         I         V        Qc   Qd  \\\n",
       "0           0  0.000000          0.0  0.000000  0.000000  0.000000  0.0   \n",
       "1           1  0.000000          0.0  0.000000  0.000000  0.000000  0.0   \n",
       "2           0  0.000000          1.0  0.000000  2.026416  0.000000  0.0   \n",
       "3           1  0.002417          1.0  0.215908  2.039388  0.000001  0.0   \n",
       "4           2  0.002912          1.0  0.359831  2.051660  0.000001  0.0   \n",
       "\n",
       "           T  \n",
       "0   0.000000  \n",
       "1   0.000000  \n",
       "2  31.632496  \n",
       "3  31.632496  \n",
       "4  31.632496  "
      ]
     },
     "execution_count": 5,
     "metadata": {},
     "output_type": "execute_result"
    }
   ],
   "source": [
    "# read the data from the csv file\n",
    "\n",
    "data = pd.read_csv('../Data/b1c0_cycling_data.csv')\n",
    "data.head(5)"
   ]
  },
  {
   "cell_type": "code",
   "execution_count": 6,
   "metadata": {},
   "outputs": [
    {
     "name": "stdout",
     "output_type": "stream",
     "text": [
      "36.043293 0.0\n"
     ]
    }
   ],
   "source": [
    "# finding out the min_T & max_T\n",
    "for data['Cycle_Index'] in range (2,200):\n",
    "    Max_T=data['T'].max()\n",
    "    Min_T=data['T'].min()\n",
    "print(Max_T,Min_T)"
   ]
  },
  {
   "cell_type": "code",
   "execution_count": 9,
   "metadata": {},
   "outputs": [],
   "source": [
    "T_Value = []\n",
    "t_Value = []\n",
    "for data['Cycle_Index'] in range (2,200):\n",
    "    T_Value = data['T']\n",
    "    t_Value = data['t']"
   ]
  },
  {
   "cell_type": "code",
   "execution_count": 11,
   "metadata": {},
   "outputs": [
    {
     "data": {
      "text/plain": [
       "0          0.000000\n",
       "1          0.000000\n",
       "2          0.000000\n",
       "3          0.002417\n",
       "4          0.002912\n",
       "5          0.003212\n",
       "6          0.003498\n",
       "7          0.003958\n",
       "8          0.004193\n",
       "9          0.004420\n",
       "10         0.004682\n",
       "11         0.004887\n",
       "12         0.005128\n",
       "13         0.005382\n",
       "14         0.005508\n",
       "15         0.005862\n",
       "16         0.006142\n",
       "17         0.006268\n",
       "18         0.006522\n",
       "19         0.006683\n",
       "20         0.006937\n",
       "21         0.007217\n",
       "22         0.007468\n",
       "23         0.007683\n",
       "24         0.007935\n",
       "25         0.008095\n",
       "26         0.008348\n",
       "27         0.008508\n",
       "28         0.008788\n",
       "29         0.008922\n",
       "            ...    \n",
       "224207    52.961662\n",
       "224208    53.045057\n",
       "224209    53.128403\n",
       "224210    53.128405\n",
       "224211    53.211833\n",
       "224212    53.295188\n",
       "224213    53.295190\n",
       "224214    53.378558\n",
       "224215    53.378560\n",
       "224216    53.461947\n",
       "224217    53.461948\n",
       "224218    53.545292\n",
       "224219    53.545293\n",
       "224220    53.628630\n",
       "224221    53.711978\n",
       "224222    53.711980\n",
       "224223    53.795393\n",
       "224224    53.878852\n",
       "224225    53.962268\n",
       "224226    54.045648\n",
       "224227    54.129113\n",
       "224228    54.212492\n",
       "224229    54.212493\n",
       "224230    54.295917\n",
       "224231    54.295918\n",
       "224232    54.379370\n",
       "224233    54.390817\n",
       "224234    54.391933\n",
       "224235    54.401867\n",
       "224236    54.408683\n",
       "Name: t, Length: 224237, dtype: float64"
      ]
     },
     "execution_count": 11,
     "metadata": {},
     "output_type": "execute_result"
    }
   ],
   "source": [
    "t_Value"
   ]
  },
  {
   "cell_type": "code",
   "execution_count": 12,
   "metadata": {},
   "outputs": [
    {
     "name": "stdout",
     "output_type": "stream",
     "text": [
      "99.27550287958002\n"
     ]
    }
   ],
   "source": [
    "T_Integ1 = integrate.trapz(T_Value, t_Value)\n",
    "print(T_Integ1)"
   ]
  },
  {
   "cell_type": "code",
   "execution_count": null,
   "metadata": {},
   "outputs": [],
   "source": []
  }
 ],
 "metadata": {
  "kernelspec": {
   "display_name": "Python 3",
   "language": "python",
   "name": "python3"
  },
  "language_info": {
   "codemirror_mode": {
    "name": "ipython",
    "version": 3
   },
   "file_extension": ".py",
   "mimetype": "text/x-python",
   "name": "python",
   "nbconvert_exporter": "python",
   "pygments_lexer": "ipython3",
   "version": "3.7.3"
  }
 },
 "nbformat": 4,
 "nbformat_minor": 4
}

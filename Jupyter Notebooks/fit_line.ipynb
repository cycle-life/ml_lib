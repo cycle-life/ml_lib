{
 "cells": [
  {
   "cell_type": "markdown",
   "metadata": {},
   "source": [
    "# Developer's Notebook - Erica"
   ]
  },
  {
   "cell_type": "markdown",
   "metadata": {},
   "source": [
    "## Features:\n",
    "\n",
    "7) Slope of the discharge curve, cycles 2 to 100, the first value in the vector **b*** as i eqn. 3 where d=99.\n",
    "\n",
    "8)  Intercept of the linear fit to Q(n), cycles 2 to 100, the second value in the vector **b*** as in eqn. 3 where d= 99\n",
    "\n",
    "9) Slope of Q(n), cycles 91 to 100 = teh first value in the vector **b*** as in eqn.3 where d = 10.\n",
    "\n",
    "10) Intercept of the linear fit to Q(n), cycles 91 to 100, the second value in the vecotr **b*** as in eqn. 3 where d = 10."
   ]
  },
  {
   "cell_type": "code",
   "execution_count": 18,
   "metadata": {},
   "outputs": [],
   "source": [
    "import pandas as pd\n",
    "import numpy as np\n",
    "import matplotlib.pyplot as plt\n",
    "from scipy import stats"
   ]
  },
  {
   "cell_type": "code",
   "execution_count": 19,
   "metadata": {},
   "outputs": [
    {
     "data": {
      "text/html": [
       "<div>\n",
       "<style scoped>\n",
       "    .dataframe tbody tr th:only-of-type {\n",
       "        vertical-align: middle;\n",
       "    }\n",
       "\n",
       "    .dataframe tbody tr th {\n",
       "        vertical-align: top;\n",
       "    }\n",
       "\n",
       "    .dataframe thead th {\n",
       "        text-align: right;\n",
       "    }\n",
       "</style>\n",
       "<table border=\"1\" class=\"dataframe\">\n",
       "  <thead>\n",
       "    <tr style=\"text-align: right;\">\n",
       "      <th></th>\n",
       "      <th>Unnamed: 0</th>\n",
       "      <th>IR</th>\n",
       "      <th>QC</th>\n",
       "      <th>QD</th>\n",
       "      <th>Tavg</th>\n",
       "      <th>Tmin</th>\n",
       "      <th>Tmax</th>\n",
       "      <th>chargetime</th>\n",
       "      <th>cycle</th>\n",
       "    </tr>\n",
       "  </thead>\n",
       "  <tbody>\n",
       "    <tr>\n",
       "      <th>0</th>\n",
       "      <td>0</td>\n",
       "      <td>0.000000</td>\n",
       "      <td>0.000000</td>\n",
       "      <td>0.000000</td>\n",
       "      <td>0.000000</td>\n",
       "      <td>0.000000</td>\n",
       "      <td>0.000000</td>\n",
       "      <td>0.000000</td>\n",
       "      <td>1</td>\n",
       "    </tr>\n",
       "    <tr>\n",
       "      <th>1</th>\n",
       "      <td>1</td>\n",
       "      <td>0.016742</td>\n",
       "      <td>1.071042</td>\n",
       "      <td>1.070689</td>\n",
       "      <td>31.875011</td>\n",
       "      <td>29.566130</td>\n",
       "      <td>35.652016</td>\n",
       "      <td>13.341250</td>\n",
       "      <td>2</td>\n",
       "    </tr>\n",
       "    <tr>\n",
       "      <th>2</th>\n",
       "      <td>2</td>\n",
       "      <td>0.016724</td>\n",
       "      <td>1.071674</td>\n",
       "      <td>1.071900</td>\n",
       "      <td>31.931490</td>\n",
       "      <td>29.604385</td>\n",
       "      <td>35.692978</td>\n",
       "      <td>13.425777</td>\n",
       "      <td>3</td>\n",
       "    </tr>\n",
       "    <tr>\n",
       "      <th>3</th>\n",
       "      <td>3</td>\n",
       "      <td>0.016681</td>\n",
       "      <td>1.072304</td>\n",
       "      <td>1.072510</td>\n",
       "      <td>31.932603</td>\n",
       "      <td>29.744202</td>\n",
       "      <td>35.680588</td>\n",
       "      <td>13.425167</td>\n",
       "      <td>4</td>\n",
       "    </tr>\n",
       "    <tr>\n",
       "      <th>4</th>\n",
       "      <td>4</td>\n",
       "      <td>0.016662</td>\n",
       "      <td>1.072970</td>\n",
       "      <td>1.073174</td>\n",
       "      <td>31.959322</td>\n",
       "      <td>29.644709</td>\n",
       "      <td>35.728691</td>\n",
       "      <td>13.341442</td>\n",
       "      <td>5</td>\n",
       "    </tr>\n",
       "  </tbody>\n",
       "</table>\n",
       "</div>"
      ],
      "text/plain": [
       "   Unnamed: 0        IR        QC        QD       Tavg       Tmin       Tmax  \\\n",
       "0           0  0.000000  0.000000  0.000000   0.000000   0.000000   0.000000   \n",
       "1           1  0.016742  1.071042  1.070689  31.875011  29.566130  35.652016   \n",
       "2           2  0.016724  1.071674  1.071900  31.931490  29.604385  35.692978   \n",
       "3           3  0.016681  1.072304  1.072510  31.932603  29.744202  35.680588   \n",
       "4           4  0.016662  1.072970  1.073174  31.959322  29.644709  35.728691   \n",
       "\n",
       "   chargetime  cycle  \n",
       "0    0.000000      1  \n",
       "1   13.341250      2  \n",
       "2   13.425777      3  \n",
       "3   13.425167      4  \n",
       "4   13.341442      5  "
      ]
     },
     "execution_count": 19,
     "metadata": {},
     "output_type": "execute_result"
    }
   ],
   "source": [
    "data = pd.read_csv('./b1c0_summary_data.csv')\n",
    "data.head()"
   ]
  },
  {
   "cell_type": "code",
   "execution_count": 20,
   "metadata": {},
   "outputs": [],
   "source": [
    "def line_fit(data, start, end):\n",
    "    \"\"\"\n",
    "    Function for fitting the curve Q(n) at various cycles (Features 9-12)\n",
    "    \n",
    "    ------\n",
    "    \n",
    "    Inputs\n",
    "    \n",
    "    function: function of interest\n",
    "    \n",
    "    start: first cycle of interest\n",
    "    \n",
    "    end: last cycle of interest\n",
    "    \n",
    "    \"\"\"\n",
    "    cycles = data['cycle']\n",
    "    q = data['QD']\n",
    "    x = np.asarray(cycles[start:end])\n",
    "    y = np.asarray(q[start:end])\n",
    "    slope, intercept, r_value, p_value, std_error = stats.linregress(x, y)\n",
    "    \n",
    "    return slope, intercept"
   ]
  },
  {
   "cell_type": "code",
   "execution_count": 23,
   "metadata": {},
   "outputs": [],
   "source": [
    "def seven_to_ten(data, cycle=100):\n",
    "    \n",
    "    _seven,_eight= line_fit(data, 2, cycle)\n",
    "    _nine,_ten= line_fit(data,cycle-10,cycle)\n",
    "    \n",
    "    return [_seven,_eight,_nine,_ten]"
   ]
  },
  {
   "cell_type": "code",
   "execution_count": 24,
   "metadata": {},
   "outputs": [
    {
     "data": {
      "text/plain": [
       "[-0.00021945644600858112,\n",
       " 1.091999677377605,\n",
       " 3.532363636364148e-05,\n",
       " 1.0724246927272723]"
      ]
     },
     "execution_count": 24,
     "metadata": {},
     "output_type": "execute_result"
    }
   ],
   "source": [
    "seven_to_ten(data, 100)"
   ]
  },
  {
   "cell_type": "code",
   "execution_count": null,
   "metadata": {},
   "outputs": [],
   "source": []
  }
 ],
 "metadata": {
  "kernelspec": {
   "display_name": "Python 3",
   "language": "python",
   "name": "python3"
  },
  "language_info": {
   "codemirror_mode": {
    "name": "ipython",
    "version": 3
   },
   "file_extension": ".py",
   "mimetype": "text/x-python",
   "name": "python",
   "nbconvert_exporter": "python",
   "pygments_lexer": "ipython3",
   "version": "3.7.2"
  }
 },
 "nbformat": 4,
 "nbformat_minor": 4
}
